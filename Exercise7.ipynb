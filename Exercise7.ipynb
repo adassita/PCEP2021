{
 "cells": [
  {
   "cell_type": "markdown",
   "metadata": {},
   "source": [
    "### Exercise 1\n",
    "Ask a user for 5 names and place each one in to a list called <i>names</i>. Then, print <i>names</i>."
   ]
  },
  {
   "cell_type": "code",
   "execution_count": 1,
   "metadata": {},
   "outputs": [
    {
     "name": "stdout",
     "output_type": "stream",
     "text": [
      "Enter a name: Dassi\n",
      "Enter a name: Tagueyang\n",
      "Enter a name: Aubin\n",
      "Enter a name: Wilfried\n",
      "Enter a name: Phanou\n",
      "['Dassi', 'Tagueyang', 'Aubin', 'Wilfried', 'Phanou']\n"
     ]
    }
   ],
   "source": [
    "names = []\n",
    "\n",
    "\n",
    "names.append(input(\"Enter a name: \"))\n",
    "names.append(input(\"Enter a name: \"))\n",
    "names.append(input(\"Enter a name: \"))\n",
    "names.append(input(\"Enter a name: \"))\n",
    "names.append(input(\"Enter a name: \"))\n",
    "    \n",
    "print(names) "
   ]
  },
  {
   "cell_type": "markdown",
   "metadata": {},
   "source": [
    "### Exercise 2\n",
    "Print out a randomly selected name in the names list from exercise 1."
   ]
  },
  {
   "cell_type": "code",
   "execution_count": 2,
   "metadata": {},
   "outputs": [
    {
     "name": "stdout",
     "output_type": "stream",
     "text": [
      "Dassi\n"
     ]
    }
   ],
   "source": [
    "import random as rand\n",
    "\n",
    "index = rand.randint(0, 4)\n",
    "print(names[index])"
   ]
  },
  {
   "cell_type": "markdown",
   "metadata": {},
   "source": [
    "### Exercise 3: \n",
    "Fix bugs in the next cell.  It is trying to create a list for even numbers between two numbers provided by a user.\n"
   ]
  },
  {
   "cell_type": "code",
   "execution_count": 20,
   "metadata": {},
   "outputs": [
    {
     "name": "stdout",
     "output_type": "stream",
     "text": [
      "Enter a starting number: 1\n",
      "Enter an ending number: 4\n",
      "[1, 2, 3, 4]\n",
      "[2, 4]\n"
     ]
    }
   ],
   "source": [
    "no1 = int(input(\"Enter a starting number: \"))\n",
    "no2 = int(input(\"Enter an ending number: \"))\n",
    "\n",
    "numbers = []\n",
    "evens = []\n",
    "\n",
    "for i in range(no1, no2+1) :\n",
    "    numbers.append(i) \n",
    "    if (i%2 == 0)  : # even number\n",
    "        evens.append(i)\n",
    "    \n",
    "print(numbers)    \n",
    "print(evens)"
   ]
  },
  {
   "cell_type": "markdown",
   "metadata": {},
   "source": [
    "### Exercise 4\n",
    "Finish writing a program to generate 10 random numbers between 1 and 100 and save it to a list.\n",
    "Finally, print out the original numbers followed by the smallest, largest, and average number."
   ]
  },
  {
   "cell_type": "code",
   "execution_count": 21,
   "metadata": {},
   "outputs": [
    {
     "name": "stdout",
     "output_type": "stream",
     "text": [
      "Org Numbers are [20, 38, 78, 64, 100, 39, 38, 32, 10, 94]\n",
      "Sorted numbers are [10, 20, 32, 38, 38, 39, 64, 78, 94, 100]\n",
      "Largest number is 100\n",
      "Smallest number is 10\n",
      "Average is 51.3\n"
     ]
    }
   ],
   "source": [
    "import random as rand\n",
    "\n",
    "numbers = []\n",
    "total = 0\n",
    "\n",
    "for i in range(1, 11) :\n",
    "    numb = rand.randint(1, 100)\n",
    "    total += numb\n",
    "    numbers.append(numb)\n",
    "\n",
    "    \n",
    "# some code needed here\n",
    "org_numbs = numbers.copy()\n",
    "numbers.sort()\n",
    "avg = total / 10\n",
    "largest = numbers[-1]\n",
    "smallest = numbers[0]\n",
    "\n",
    "print(f\"Org Numbers are {org_numbs}\")\n",
    "print(f\"Sorted numbers are {numbers}\")\n",
    "print(f\"Largest number is {largest}\")\n",
    "print(f\"Smallest number is {smallest}\")\n",
    "print(f\"Average is {avg}\")"
   ]
  },
  {
   "cell_type": "markdown",
   "metadata": {},
   "source": [
    "### Exercise 5\n",
    "\n",
    "Write a function called <b>draw_triangle()</b> to draw a right triangle where the base of the triangle is the number passed in as an arguement. Call <b>draw_triangle()</b> to show it works.\n",
    "\n",
    "e.g. <b>draw_triangle(7)</b> draws as below:\n",
    "\n",
    "    *\n",
    "    **\n",
    "    ***\n",
    "    ****\n",
    "    *****\n",
    "    ******\n",
    "    *******\n"
   ]
  },
  {
   "cell_type": "code",
   "execution_count": 22,
   "metadata": {},
   "outputs": [],
   "source": [
    "def draw_triangle(base) :\n",
    "    for i in range(1, base+1) :\n",
    "        print(i * \"*\")\n",
    "\n"
   ]
  },
  {
   "cell_type": "code",
   "execution_count": 23,
   "metadata": {},
   "outputs": [
    {
     "name": "stdout",
     "output_type": "stream",
     "text": [
      "Enter a number: 1\n",
      "*\n"
     ]
    }
   ],
   "source": [
    "base = int(input(\"Enter a number: \"))\n",
    "\n",
    "draw_triangle(base)"
   ]
  },
  {
   "cell_type": "code",
   "execution_count": null,
   "metadata": {},
   "outputs": [],
   "source": []
  }
 ],
 "metadata": {
  "kernelspec": {
   "display_name": "Python 3",
   "language": "python",
   "name": "python3"
  },
  "language_info": {
   "codemirror_mode": {
    "name": "ipython",
    "version": 3
   },
   "file_extension": ".py",
   "mimetype": "text/x-python",
   "name": "python",
   "nbconvert_exporter": "python",
   "pygments_lexer": "ipython3",
   "version": "3.8.5"
  }
 },
 "nbformat": 4,
 "nbformat_minor": 4
}
