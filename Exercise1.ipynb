{
 "cells": [
  {
   "cell_type": "markdown",
   "metadata": {},
   "source": [
    "## Questions"
   ]
  },
  {
   "cell_type": "markdown",
   "metadata": {},
   "source": [
    "1. What is a hardware?\n"
   ]
  },
  {
   "cell_type": "markdown",
   "metadata": {},
   "source": [
    "A hardware is a physical part of a computer."
   ]
  },
  {
   "cell_type": "markdown",
   "metadata": {},
   "source": [
    "2. What is a software?\n"
   ]
  },
  {
   "cell_type": "markdown",
   "metadata": {},
   "source": [
    "A software is a program operating information used by a computer."
   ]
  },
  {
   "cell_type": "markdown",
   "metadata": {},
   "source": [
    "3. Convert 10011001 to a decimal number\n"
   ]
  },
  {
   "cell_type": "markdown",
   "metadata": {},
   "source": [
    "10011001 \n",
    "= 2 7 + 2 4 + 2 3 + 2 0 \n",
    "= 128 + 16 + 8 + 1 \n",
    "= 153"
   ]
  },
  {
   "cell_type": "markdown",
   "metadata": {},
   "source": [
    "4. Convert 11101100 to a decimal number\n"
   ]
  },
  {
   "cell_type": "markdown",
   "metadata": {},
   "source": [
    "11101100 \n",
    "= 2 7 + 2 6 + 2 5 + 2 3 + 2 2 \n",
    "= 128 + 64 + 32 + 8 + 4 \n",
    "= 236"
   ]
  },
  {
   "cell_type": "markdown",
   "metadata": {},
   "source": [
    "5. Decode this secret message:\n",
    "01001100 01101111 01100111 01101001 01100011"
   ]
  },
  {
   "cell_type": "markdown",
   "metadata": {},
   "source": [
    "\n",
    "01001100 = 26 + 23 + 22 = 64 + 8 + 4 = 76\n",
    "01101111 = 26 + 25 + 23 + 22 + 21 + 20 = 64+32+8+4+2+1 = 111\n",
    "01100111 = 26 + 25 + 22 + 21 + 20 = 64+32+4+2+1 = 103\n",
    "01101001 = 26 + 25 + 23 + 20 = 64+32+8+1 = 105\n",
    "01100011 = 26 + 25 + 21 + 20 = 64+32+2+1 = 99\n",
    "\n",
    "Secret message is Logic"
   ]
  },
  {
   "cell_type": "markdown",
   "metadata": {},
   "source": [
    "6. Identify and explain stages of Programming.\n"
   ]
  },
  {
   "cell_type": "markdown",
   "metadata": {},
   "source": [
    "\n",
    "Analyze: Identify, Divide, Re-group\n",
    "Plan: IPO, Algorithm\n",
    "Code: Programming Language\n",
    "Test: Unit test, System test, Integration test\n",
    "Maintenance: Bug fix, Enhancements, Document"
   ]
  },
  {
   "cell_type": "markdown",
   "metadata": {},
   "source": [
    "7. You need to write a program to compute total sales amount when sales tax is 5%. Identify IPO (inpt, process, output) for this pr\n",
    "\n"
   ]
  },
  {
   "cell_type": "markdown",
   "metadata": {},
   "source": [
    "Input: sales amount Process: sales amount X 0.05 = sales tax sales amount + sales tax = total sales amount Output: total sales amount\n",
    "Data: Input:  100.00𝑃𝑟𝑜𝑐𝑒𝑠𝑠:\n",
    "100.00\n",
    "P\n",
    "r\n",
    "o\n",
    "c\n",
    "e\n",
    "s\n",
    "s\n",
    ":\n",
    " 100.00 X 0.05 =  5.00\n",
    "5.00\n",
    " 100.00 +  5.00=\n",
    "5.00\n",
    "=\n",
    " 105.00 Output: $105.00"
   ]
  },
  {
   "cell_type": "markdown",
   "metadata": {},
   "source": [
    "8. Identify IPO for converting liters to US gallons.\n"
   ]
  },
  {
   "cell_type": "markdown",
   "metadata": {},
   "source": [
    "Input: liters Process: liters X 0.264 gallons/liters = gallons Output: US gallons\n",
    "Data: Input: 10 liters Process: 10 liters X 0.265 gallons/liters = 2.65 gallons Output: 2.65 gallons"
   ]
  },
  {
   "cell_type": "markdown",
   "metadata": {},
   "source": [
    "9. Identify IPO for computing a worker's pay. What information/data do you need?"
   ]
  },
  {
   "cell_type": "markdown",
   "metadata": {},
   "source": [
    "Input: worker's hourly pay, worker's worked hours\n",
    "Process: worker's hourly pay X worker's worked hours = worker's pay\n",
    "Output: worker's pay"
   ]
  },
  {
   "cell_type": "code",
   "execution_count": null,
   "metadata": {},
   "outputs": [],
   "source": []
  }
 ],
 "metadata": {
  "kernelspec": {
   "display_name": "Python 3",
   "language": "python",
   "name": "python3"
  },
  "language_info": {
   "codemirror_mode": {
    "name": "ipython",
    "version": 3
   },
   "file_extension": ".py",
   "mimetype": "text/x-python",
   "name": "python",
   "nbconvert_exporter": "python",
   "pygments_lexer": "ipython3",
   "version": "3.8.5"
  }
 },
 "nbformat": 4,
 "nbformat_minor": 4
}
