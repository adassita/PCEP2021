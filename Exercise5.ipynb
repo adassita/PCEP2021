{
 "cells": [
  {
   "cell_type": "markdown",
   "metadata": {},
   "source": [
    "1. Round 4.5667 to the nearest hundreth using a build-in function, round()."
   ]
  },
  {
   "cell_type": "code",
   "execution_count": 1,
   "metadata": {},
   "outputs": [
    {
     "data": {
      "text/plain": [
       "4.57"
      ]
     },
     "execution_count": 1,
     "metadata": {},
     "output_type": "execute_result"
    }
   ],
   "source": [
    "round(4.5667, 2)"
   ]
  },
  {
   "cell_type": "markdown",
   "metadata": {},
   "source": [
    "2. Convert \"657\" to an integer data type"
   ]
  },
  {
   "cell_type": "code",
   "execution_count": 2,
   "metadata": {},
   "outputs": [
    {
     "name": "stdout",
     "output_type": "stream",
     "text": [
      "657\n",
      "str_var1's value is 657 and type is <class 'str'>\n",
      "num_var1's value is 657 and type is <class 'int'>\n"
     ]
    }
   ],
   "source": [
    "str_var1 = \"657\"\n",
    "num_var1 = int(str_var1)\n",
    "print(num_var1)\n",
    "print(f\"str_var1's value is {str_var1} and type is {type(str_var1)}\")\n",
    "print(f\"num_var1's value is {num_var1} and type is {type(num_var1)}\")"
   ]
  },
  {
   "cell_type": "markdown",
   "metadata": {},
   "source": [
    "3.\n",
    "Write a program to get two numbers from a user. Then, create a secret code where a code consists of 6 numbers and each number is randomly generated number between two numbers from a user. "
   ]
  },
  {
   "cell_type": "code",
   "execution_count": 3,
   "metadata": {},
   "outputs": [
    {
     "name": "stdout",
     "output_type": "stream",
     "text": [
      "Enter a first number: 15\n",
      "Enter a second number: 30\n",
      "The secret code is 18 30 22 22 21 21\n"
     ]
    }
   ],
   "source": [
    "import random as rand\n",
    "\n",
    "start_no = int(input(\"Enter a first number: \"))\n",
    "end_no = int(input(\"Enter a second number: \"))\n",
    "\n",
    "code1 = rand.randint(start_no, end_no)\n",
    "code2 = rand.randint(start_no, end_no)\n",
    "code3 = rand.randint(start_no, end_no)\n",
    "code4 = rand.randint(start_no, end_no)\n",
    "code5 = rand.randint(start_no, end_no)\n",
    "code6 = rand.randint(start_no, end_no)\n",
    "\n",
    "print(f\"The secret code is {code1} {code2} {code3} {code4} {code5} {code6}\")"
   ]
  },
  {
   "cell_type": "markdown",
   "metadata": {},
   "source": [
    "4.\n",
    "Write a program to center align below text where number of characters per line is 40:\n",
    "\n",
    "    Hickory, dickory, dock,\n",
    "    The mouse ran up the clock.\n",
    "    The clock struck one,\n",
    "    The mouse ran down,\n",
    "    Hickory, dickory, dock\n",
    "\n",
    "<b>Do not use string's center method! </b>"
   ]
  },
  {
   "cell_type": "code",
   "execution_count": 4,
   "metadata": {},
   "outputs": [
    {
     "name": "stdout",
     "output_type": "stream",
     "text": [
      "1234567890123456789012345678901234567890\n",
      "        Hickory, dickory, dock,        \n",
      "      The mouse ran up the clock.      \n",
      "         The clock struck one,         \n",
      "          The mouse ran down,          \n",
      "         Hickory, dickory, dock         \n"
     ]
    }
   ],
   "source": [
    "line1 = \"Hickory, dickory, dock,\"\n",
    "line2 = \"The mouse ran up the clock.\"\n",
    "line3 = \"The clock struck one,\"\n",
    "line4 = \"The mouse ran down,\"\n",
    "line5 = \"Hickory, dickory, dock\"\n",
    "\n",
    "\n",
    "MAX_CHAR = 40\n",
    "DELIM = ' '\n",
    "print(\"1234567890123456789012345678901234567890\")\n",
    "\n",
    "line1 = line1.strip()\n",
    "diff = MAX_CHAR - len(line1)\n",
    "padding = DELIM * int(diff/2)\n",
    "print(f\"{padding}{line1}{padding}\")\n",
    "\n",
    "line2 = line2.strip()\n",
    "diff = MAX_CHAR - len(line2)\n",
    "padding = DELIM * int(diff/2)\n",
    "print(f\"{padding}{line2}{padding}\")\n",
    "\n",
    "line3 = line3.strip()\n",
    "diff = MAX_CHAR - len(line3)\n",
    "padding = DELIM * int(diff/2)       \n",
    "print(f\"{padding}{line3}{padding}\")\n",
    "\n",
    "line4 = line4.strip()\n",
    "diff = MAX_CHAR - len(line4)\n",
    "padding = DELIM * int(diff/2)\n",
    "print(f\"{padding}{line4}{padding}\")\n",
    "\n",
    "line5 = line5.strip()\n",
    "diff = MAX_CHAR - len(line5)\n",
    "padding = DELIM * int(diff/2)\n",
    "print(f\"{padding}{line5}{padding}\")\n"
   ]
  },
  {
   "cell_type": "markdown",
   "metadata": {},
   "source": [
    "5. Write a function to calculate the miles per gallon.\n",
    "Get a miles driven and gallons used from a user and call your function to calculate the miles per gallon. "
   ]
  },
  {
   "cell_type": "code",
   "execution_count": null,
   "metadata": {},
   "outputs": [],
   "source": [
    "def miles_per_gal(miles, gallons) :\n",
    "    mpg = miles / gallons\n",
    "    mpg = round(mpg, 2)\n",
    "    return mpg"
   ]
  },
  {
   "cell_type": "code",
   "execution_count": 10,
   "metadata": {},
   "outputs": [
    {
     "name": "stdout",
     "output_type": "stream",
     "text": [
      "The Milers Per Gallon Program\n",
      "\n",
      "Enter miles driven:\t\t50\n",
      "Enter gallons of gas used:\t15\n"
     ]
    },
    {
     "ename": "NameError",
     "evalue": "name 'miles_per_gal' is not defined",
     "output_type": "error",
     "traceback": [
      "\u001b[0;31m---------------------------------------------------------------------------\u001b[0m",
      "\u001b[0;31mNameError\u001b[0m                                 Traceback (most recent call last)",
      "\u001b[0;32m<ipython-input-10-156c49c29cdf>\u001b[0m in \u001b[0;36m<module>\u001b[0;34m\u001b[0m\n\u001b[1;32m      6\u001b[0m \u001b[0mgallons_used\u001b[0m \u001b[0;34m=\u001b[0m \u001b[0mfloat\u001b[0m\u001b[0;34m(\u001b[0m\u001b[0minput\u001b[0m\u001b[0;34m(\u001b[0m\u001b[0;34m\"Enter gallons of gas used:\\t\"\u001b[0m\u001b[0;34m)\u001b[0m\u001b[0;34m)\u001b[0m\u001b[0;34m\u001b[0m\u001b[0;34m\u001b[0m\u001b[0m\n\u001b[1;32m      7\u001b[0m \u001b[0;34m\u001b[0m\u001b[0m\n\u001b[0;32m----> 8\u001b[0;31m \u001b[0mmpg\u001b[0m \u001b[0;34m=\u001b[0m \u001b[0mmiles_per_gal\u001b[0m\u001b[0;34m(\u001b[0m\u001b[0mmiles_driven\u001b[0m\u001b[0;34m,\u001b[0m \u001b[0mgallons_used\u001b[0m\u001b[0;34m)\u001b[0m\u001b[0;34m\u001b[0m\u001b[0;34m\u001b[0m\u001b[0m\n\u001b[0m\u001b[1;32m      9\u001b[0m \u001b[0;34m\u001b[0m\u001b[0m\n\u001b[1;32m     10\u001b[0m \u001b[0;31m# Display the result\u001b[0m\u001b[0;34m\u001b[0m\u001b[0;34m\u001b[0m\u001b[0;34m\u001b[0m\u001b[0m\n",
      "\u001b[0;31mNameError\u001b[0m: name 'miles_per_gal' is not defined"
     ]
    }
   ],
   "source": [
    "# Disply a title\n",
    "print(\"The Milers Per Gallon Program\\n\")\n",
    "\n",
    "# Get input from the user\n",
    "miles_driven = float(input(\"Enter miles driven:\\t\\t\"))\n",
    "gallons_used = float(input(\"Enter gallons of gas used:\\t\"))\n",
    "\n",
    "mpg = miles_per_gal(miles_driven, gallons_used)\n",
    "\n",
    "# Display the result\n",
    "print(f\"\\nMiles per Gallon:\\t\\t{mpg}\")"
   ]
  },
  {
   "cell_type": "code",
   "execution_count": null,
   "metadata": {},
   "outputs": [],
   "source": []
  }
 ],
 "metadata": {
  "kernelspec": {
   "display_name": "Python 3",
   "language": "python",
   "name": "python3"
  },
  "language_info": {
   "codemirror_mode": {
    "name": "ipython",
    "version": 3
   },
   "file_extension": ".py",
   "mimetype": "text/x-python",
   "name": "python",
   "nbconvert_exporter": "python",
   "pygments_lexer": "ipython3",
   "version": "3.8.5"
  }
 },
 "nbformat": 4,
 "nbformat_minor": 4
}
